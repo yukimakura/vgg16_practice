{
 "metadata": {
  "language_info": {
   "codemirror_mode": {
    "name": "ipython",
    "version": 3
   },
   "file_extension": ".py",
   "mimetype": "text/x-python",
   "name": "python",
   "nbconvert_exporter": "python",
   "pygments_lexer": "ipython3",
   "version": 3
  },
  "orig_nbformat": 2,
  "kernelspec": {
   "name": "python_defaultSpec_1596081684728",
   "display_name": "Python 3.6.10 64-bit ('v_env_init': conda)"
  }
 },
 "nbformat": 4,
 "nbformat_minor": 2,
 "cells": [
  {
   "cell_type": "code",
   "execution_count": 1,
   "metadata": {
    "tags": []
   },
   "outputs": [],
   "source": [
    "import numpy as np\n",
    "import tensorflow as tf\n",
    "from tensorflow.keras.datasets import mnist\n",
    "from tensorflow.keras.models import model_from_json\n",
    "# from tensorflow.keras import np_utils\n",
    "from tensorflow.keras.optimizers import Adam\n",
    "import tensorflow.keras.callbacks\n",
    "# import tensorflow.keras.backend.tensorflow_backend as KTF\n",
    "\n",
    "import os.path\n",
    "from sklearn.datasets import load_files\n",
    "import pandas as pd\n",
    "from tqdm import tqdm#progress bar\n",
    "from PIL import Image\n",
    "\n",
    "from datetime import datetime as dt\n",
    "\n",
    "tqdm.pandas()#progress bar"
   ]
  },
  {
   "cell_type": "code",
   "execution_count": 2,
   "metadata": {},
   "outputs": [],
   "source": [
    "def apply_loop(frompd,arg1):\n",
    "    arg1.append(np.asarray(Image.open(frompd).convert('RGB')))\n",
    "\n",
    "def load_dataset(path):\n",
    "    data=load_files(path)\n",
    "    targets_img = []\n",
    "\n",
    "    data_df = pd.DataFrame(columns=['filenames', 'target_names'])\n",
    "    data_df['filenames'] = data['filenames']\n",
    "    data_df['target'] = data['target']\n",
    "    data_df['img'] = data_df['filenames'].progress_apply(apply_loop,arg1=targets_img)\n",
    "\n",
    "    # 返り値にそれぞれ　画像のリスト、エンコーディングされた整数値、カテゴリーリスト\n",
    "    return targets_img, data_df['target'] ,data[\"target_names\"]\n"
   ]
  },
  {
   "cell_type": "code",
   "execution_count": 3,
   "metadata": {},
   "outputs": [],
   "source": [
    "def saveimgloop(frompd,arg1,dirstr):\n",
    "    # df = pd.DataFrame(columns=['img_num', 'ans', 'pred'])\n",
    "    Image.fromarray(np.uint8(arg1[\"data\"][frompd[\"img_num\"]]*255)).save(\"{0}/missimg{1}_ans_{2}_predict{3}.png\".format(dirstr,frompd[\"img_num\"],arg1[\"labels_list\"][frompd[\"ans\"]],arg1[\"labels_list\"][frompd[\"pred\"]]))\n",
    "    "
   ]
  },
  {
   "cell_type": "code",
   "execution_count": 4,
   "metadata": {
    "tags": []
   },
   "outputs": [],
   "source": [
    "batch_size = 256\n",
    "nb_classes = 120\n",
    "nb_epoch = 1\n",
    "epochs = 20\n",
    "\n",
    "dirstr = \"./miss_img/batch_size{0}_epochs{1}_{2}\".format(batch_size,epochs,dt.now().strftime(\"%Y_%m_%d_%H_%M_%S\"))\n",
    "\n",
    "f_log = './log'\n",
    "f_model = './model'\n",
    "model_filename = './miss_img/batch_size256_epochs20_2020_07_30_01_40_07/vgg16_model.json'\n",
    "weights_filename = './miss_img/batch_size256_epochs20_2020_07_30_01_40_07/vgg16_weights.hdf5'\n",
    "\n",
    "# data load---------------\n",
    "traindata = np.load('fruits_train.npz')\n",
    "testdata = np.load('fruits_test.npz')\n"
   ]
  },
  {
   "cell_type": "code",
   "execution_count": 5,
   "metadata": {
    "tags": []
   },
   "outputs": [
    {
     "output_type": "stream",
     "name": "stdout",
     "text": "WARNING:tensorflow:From C:\\Users\\k_yamada\\AppData\\Local\\conda\\conda\\envs\\v_env_init\\lib\\site-packages\\tensorflow_core\\python\\ops\\resource_variable_ops.py:1630: calling BaseResourceVariable.__init__ (from tensorflow.python.ops.resource_variable_ops) with constraint is deprecated and will be removed in a future version.\nInstructions for updating:\nIf using Keras pass *_constraint arguments to layers.\nModel: \"sequential_1\"\n_________________________________________________________________\nLayer (type)                 Output Shape              Param #   \n=================================================================\nconv2d_14 (Conv2D)           (None, 100, 100, 8)       224       \n_________________________________________________________________\nbatch_normalization_14 (Batc (None, 100, 100, 8)       32        \n_________________________________________________________________\nactivation_14 (Activation)   (None, 100, 100, 8)       0         \n_________________________________________________________________\nconv2d_15 (Conv2D)           (None, 100, 100, 64)      4672      \n_________________________________________________________________\nbatch_normalization_15 (Batc (None, 100, 100, 64)      256       \n_________________________________________________________________\nactivation_15 (Activation)   (None, 100, 100, 64)      0         \n_________________________________________________________________\nconv2d_16 (Conv2D)           (None, 100, 100, 64)      36928     \n_________________________________________________________________\nbatch_normalization_16 (Batc (None, 100, 100, 64)      256       \n_________________________________________________________________\nactivation_16 (Activation)   (None, 100, 100, 64)      0         \n_________________________________________________________________\nmax_pooling2d_4 (MaxPooling2 (None, 50, 50, 64)        0         \n_________________________________________________________________\nconv2d_17 (Conv2D)           (None, 50, 50, 128)       73856     \n_________________________________________________________________\nbatch_normalization_17 (Batc (None, 50, 50, 128)       512       \n_________________________________________________________________\nactivation_17 (Activation)   (None, 50, 50, 128)       0         \n_________________________________________________________________\nconv2d_18 (Conv2D)           (None, 50, 50, 128)       147584    \n_________________________________________________________________\nbatch_normalization_18 (Batc (None, 50, 50, 128)       512       \n_________________________________________________________________\nactivation_18 (Activation)   (None, 50, 50, 128)       0         \n_________________________________________________________________\nmax_pooling2d_5 (MaxPooling2 (None, 25, 25, 128)       0         \n_________________________________________________________________\nconv2d_19 (Conv2D)           (None, 25, 25, 256)       295168    \n_________________________________________________________________\nbatch_normalization_19 (Batc (None, 25, 25, 256)       1024      \n_________________________________________________________________\nactivation_19 (Activation)   (None, 25, 25, 256)       0         \n_________________________________________________________________\nconv2d_20 (Conv2D)           (None, 25, 25, 256)       590080    \n_________________________________________________________________\nbatch_normalization_20 (Batc (None, 25, 25, 256)       1024      \n_________________________________________________________________\nactivation_20 (Activation)   (None, 25, 25, 256)       0         \n_________________________________________________________________\nconv2d_21 (Conv2D)           (None, 25, 25, 256)       590080    \n_________________________________________________________________\nbatch_normalization_21 (Batc (None, 25, 25, 256)       1024      \n_________________________________________________________________\nactivation_21 (Activation)   (None, 25, 25, 256)       0         \n_________________________________________________________________\nmax_pooling2d_6 (MaxPooling2 (None, 12, 12, 256)       0         \n_________________________________________________________________\nconv2d_22 (Conv2D)           (None, 12, 12, 512)       1180160   \n_________________________________________________________________\nbatch_normalization_22 (Batc (None, 12, 12, 512)       2048      \n_________________________________________________________________\nactivation_22 (Activation)   (None, 12, 12, 512)       0         \n_________________________________________________________________\nconv2d_23 (Conv2D)           (None, 12, 12, 512)       2359808   \n_________________________________________________________________\nbatch_normalization_23 (Batc (None, 12, 12, 512)       2048      \n_________________________________________________________________\nactivation_23 (Activation)   (None, 12, 12, 512)       0         \n_________________________________________________________________\nconv2d_24 (Conv2D)           (None, 12, 12, 512)       2359808   \n_________________________________________________________________\nbatch_normalization_24 (Batc (None, 12, 12, 512)       2048      \n_________________________________________________________________\nactivation_24 (Activation)   (None, 12, 12, 512)       0         \n_________________________________________________________________\nmax_pooling2d_7 (MaxPooling2 (None, 6, 6, 512)         0         \n_________________________________________________________________\nconv2d_25 (Conv2D)           (None, 6, 6, 512)         2359808   \n_________________________________________________________________\nbatch_normalization_25 (Batc (None, 6, 6, 512)         2048      \n_________________________________________________________________\nactivation_25 (Activation)   (None, 6, 6, 512)         0         \n_________________________________________________________________\nconv2d_26 (Conv2D)           (None, 6, 6, 512)         2359808   \n_________________________________________________________________\nbatch_normalization_26 (Batc (None, 6, 6, 512)         2048      \n_________________________________________________________________\nactivation_26 (Activation)   (None, 6, 6, 512)         0         \n_________________________________________________________________\nconv2d_27 (Conv2D)           (None, 6, 6, 512)         2359808   \n_________________________________________________________________\nbatch_normalization_27 (Batc (None, 6, 6, 512)         2048      \n_________________________________________________________________\nactivation_27 (Activation)   (None, 6, 6, 512)         0         \n_________________________________________________________________\nglobal_average_pooling2d_1 ( (None, 512)               0         \n_________________________________________________________________\ndense_1 (Dense)              (None, 120)               61560     \n=================================================================\nTotal params: 14,796,280\nTrainable params: 14,787,816\nNon-trainable params: 8,464\n_________________________________________________________________\n20622/20622 [==============================] - 104s 5ms/sample\n"
    }
   ],
   "source": [
    "with tf.Graph().as_default():\n",
    "\n",
    "    json_string = open(os.path.join(model_filename)).read()\n",
    "    model = model_from_json(json_string)\n",
    "\n",
    "    model.summary()\n",
    "\n",
    "    model.compile(loss='categorical_crossentropy', optimizer=Adam(lr=0.001, beta_1=0.5), metrics=['accuracy'])\n",
    "\n",
    "    model.load_weights(os.path.join(weights_filename))\n",
    "\n",
    "    cbks = []\n",
    "\n",
    "    # score = model.evaluate(testdata['data'], testdata['target_labels'], verbose=1)\n",
    "    predictdata = model.predict(testdata['data'],verbose=1)\n",
    "\n",
    "    # print('Test score:', score[0])\n",
    "    # print('Test accuracy:', score[1])\n"
   ]
  },
  {
   "cell_type": "code",
   "execution_count": 6,
   "metadata": {
    "tags": []
   },
   "outputs": [
    {
     "output_type": "stream",
     "name": "stdout",
     "text": "抽出\n20622it [00:00, 2072628.61it/s]抽出終了\n画像保存\n\n"
    },
    {
     "output_type": "execute_result",
     "data": {
      "text/plain": "'\\nfor num in tqdm(miss_data_nums):\\n    # print(x_test_raw[num])\\n    # Image.fromarray(np.uint8(traindata[\"data\"][0]*255)).show()\\n    Image.fromarray(np.uint8(testdata[\"data\"][num[0]]*255)).save(\"{0}/missimg{1}_ans_{2}_predict{3}.png\".format(dirstr,num[0],testdata[\"labels_list\"][num[1]],testdata[\"labels_list\"][num[2]]))\\n'"
     },
     "metadata": {},
     "execution_count": 6
    }
   ],
   "source": [
    "    print(\"抽出\")\n",
    "    # 不正解画像番号抽出\n",
    "    miss_data_nums = []\n",
    "    \"\"\"\n",
    "    for cnt,predata in tqdm(enumerate(predictdata)):\n",
    "        if np.where(predata == predata.max()) != np.where(testdata[\"target_labels\"][cnt] == testdata[\"target_labels\"][cnt].max()):\n",
    "            miss_data_nums.append([cnt,np.where(testdata[\"target_labels\"][cnt] == testdata[\"target_labels\"][cnt].max()),np.where(predata == predata.max())])\n",
    "    \"\"\"\n",
    "    predictdata_max = np.argmax(predictdata,axis=1)\n",
    "    test_target_labels = np.argmax(testdata[\"target_labels\"],axis=1)\n",
    "    for cnt,predata in tqdm(enumerate(predictdata_max)):\n",
    "        if predata != test_target_labels[cnt]:\n",
    "            miss_data_nums.append([cnt,test_target_labels[cnt],predata])\n",
    "    print(\"抽出終了\")\n",
    "    print(\"画像保存\")\n",
    "    \n",
    "    df = pd.DataFrame(columns=['img_num', 'ans', 'pred'])\n",
    "    df[\"img_num\"] = miss_data_nums[0]\n",
    "    df[\"ans\"] = miss_data_nums[1]\n",
    "    df[\"pred\"] = miss_data_nums[2]\n",
    "\n",
    "    os.makedirs(dirstr)\n",
    "    # df.progress_apply(saveimgloop,arg1=testdata,dirstr=dirstr)\n",
    "\n",
    "    with open('{}/err_detail.log'.format(dirstr), mode='w') as f:\n",
    "        f.write(\"Fruits_list,\")\n",
    "        for labelist in testdata[\"labels_list\"]:\n",
    "            f.write(\"{},\".format(labelist))\n",
    "        f.write(\"\\n\")\n",
    "        for num in miss_data_nums:\n",
    "            f.write(\"{},\".format(testdata[\"labels_list\"][predictdata_max[num[0]]]))\n",
    "            for predictlist in predictdata[num[0]]:\n",
    "                f.write(\"{},\".format(predictlist))\n",
    "            f.write(\"\\n\")\n",
    "            \n",
    "\n",
    "\n",
    "    # \"\"\"\n",
    "    for num in tqdm(miss_data_nums):\n",
    "        # print(x_test_raw[num])\n",
    "        # Image.fromarray(np.uint8(traindata[\"data\"][0]*255)).show()\n",
    "        Image.fromarray(np.uint8(testdata[\"data\"][num[0]]*255)).save(\"{0}/missimg{1}_ans_{2}_predict{3}.png\".format(dirstr,num[0],testdata[\"labels_list\"][num[1]],testdata[\"labels_list\"][num[2]]))\n",
    "    # \"\"\"\n",
    "    \n",
    "    "
   ]
  },
  {
   "cell_type": "code",
   "execution_count": null,
   "metadata": {},
   "outputs": [],
   "source": []
  }
 ]
}